{
 "cells": [
  {
   "cell_type": "code",
   "execution_count": null,
   "metadata": {},
   "outputs": [],
   "source": [
    "import pandas as pd\n",
    "from selenium import webdriver\n",
    "from webdriver_manager.chrome import ChromeDriverManager\n",
    "from selenium.webdriver.chrome.service import Service\n",
    "from selenium.webdriver.common.by import By\n",
    "\n",
    "while True:\n",
    "\n",
    "    #Pergunta ao usuário qual site gostaria de realizar as análises dos relatórios\n",
    "    site_escolhido = input('Aperte 1 para escolher o \"Banco Itaú\", ' \n",
    "                           'Aperte 2 para escolher o \"Banco Inter\", '\n",
    "                           'e Aperte 3 para escolher o \"Banco do Brasil\": ')\n",
    "\n",
    "    if site_escolhido in ['1', '2', '3']:\n",
    "\n",
    "        # Configuração do WebDriver (Chrome neste caso)\n",
    "        #Criando um serviço responsável por instalar a versão do chrome driver de forma automática\n",
    "        service = Service(ChromeDriverManager().install())\n",
    "\n",
    "        #Executando este serviço\n",
    "        driver = webdriver.Chrome(service=service)\n",
    "        print('Chrome driver configurado com sucesso.')\n",
    "\n",
    "\n",
    "        if site_escolhido == '1':\n",
    "            # Acessando o site de RI do Itaú\n",
    "            driver.get('https://www.itau.com.br/relacoes-com-investidores/resultados-e-relatorios/central-de-resultados/')\n",
    "            print('RPA entrou corretamente na central de resultados do itaú')\n",
    "        elif site_escolhido == '2':\n",
    "            # Acessando o site de RI do Inter\n",
    "            driver.get('https://investors.inter.co/informacoes-aos-investidores/central-de-resultados-inter-co/')\n",
    "            print('RPA entrou corretamente na central de resultados do inter')\n",
    "        elif site_escolhido == '3':\n",
    "             # Acessando o site de RI do Banco do Brasil\n",
    "            driver.get('https://ri.bb.com.br/informacoes-financeiras/central-de-resultados/')\n",
    "            print('RPA entrou corretamente na central de resultados do Banco do Brasil')\n",
    "            \n",
    "        #Sai do loop    \n",
    "        break\n",
    "    else:\n",
    "        print('Escolha um número entre 1 e 3')\n"
   ]
  }
 ],
 "metadata": {
  "kernelspec": {
   "display_name": "Python 3",
   "language": "python",
   "name": "python3"
  },
  "language_info": {
   "codemirror_mode": {
    "name": "ipython",
    "version": 3
   },
   "file_extension": ".py",
   "mimetype": "text/x-python",
   "name": "python",
   "nbconvert_exporter": "python",
   "pygments_lexer": "ipython3",
   "version": "3.12.5"
  }
 },
 "nbformat": 4,
 "nbformat_minor": 2
}
