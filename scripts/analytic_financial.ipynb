{
 "cells": [
  {
   "cell_type": "code",
   "execution_count": null,
   "metadata": {},
   "outputs": [],
   "source": [
    "import pandas as pd\n",
    "from selenium import webdriver\n",
    "from webdriver_manager.chrome import ChromeDriverManager\n",
    "from selenium.webdriver.chrome.service import Service\n",
    "from selenium.webdriver.common.by import By\n",
    "from time import sleep\n",
    "\n",
    "\n",
    "\n",
    "#Pergunta ao usuário qual site gostaria de realizar as análises dos relatórios\n",
    "ativos = input('Escolha ativos da bolsa de valores que deseja identificar seus indicadores: ')\n",
    "\n",
    "#Retira os espaços em branco dos ativos e deixa-os todos com letra maiúscula\n",
    "ativos_formatados = [ativo.strip().upper() for ativo in ativos.split(\",\")] \n",
    "print(f'Seus ativos são: {ativos_formatados}')\n",
    "\n",
    "# Configuração do WebDriver (Chrome neste caso)\n",
    "#Criando um serviço responsável por instalar a versão do chrome driver de forma automática\n",
    "service = Service(ChromeDriverManager().install())\n",
    "#Executando este serviço\n",
    "navegador = webdriver.Chrome(service=service)\n",
    "\n",
    "print('Chrome driver configurado com sucesso.')\n",
    "\n",
    "#Entrando no site statusinvest\n",
    "navegador.get('https://statusinvest.com.br/') \n",
    "#Para ativo dentro da lista de ativos que o usuário digitou:\n",
    "for ativo in ativos_formatados:\n",
    "    #Colocando o ativo dentro da barra de pesquisa\n",
    "    navegador.find_element(By.XPATH, '//*[@id=\"body-search\"]/span[1]/input[2]').send_keys(ativo)\n",
    "    #Clicando no lupa para pesquisar e esperando 3 segundos para a próxima etapa\n",
    "    navegador.find_element(By.XPATH, '//*[@id=\"home-search-input\"]').click()\n",
    "    sleep(3)\n",
    "    #Clicando no ativo desejado\n",
    "    navegador.find_element(By.XPATH, '//*[@id=\"body-search\"]/div/div/div/a').click()\n",
    "\n",
    "\n",
    "            \n"
   ]
  }
 ],
 "metadata": {
  "kernelspec": {
   "display_name": "Python 3",
   "language": "python",
   "name": "python3"
  },
  "language_info": {
   "codemirror_mode": {
    "name": "ipython",
    "version": 3
   },
   "file_extension": ".py",
   "mimetype": "text/x-python",
   "name": "python",
   "nbconvert_exporter": "python",
   "pygments_lexer": "ipython3",
   "version": "3.12.5"
  }
 },
 "nbformat": 4,
 "nbformat_minor": 2
}
